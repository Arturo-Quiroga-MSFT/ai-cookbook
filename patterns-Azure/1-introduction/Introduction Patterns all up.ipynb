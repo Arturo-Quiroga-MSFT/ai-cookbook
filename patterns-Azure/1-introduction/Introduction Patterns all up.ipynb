{
 "cells": [
  {
   "cell_type": "markdown",
   "id": "eb921df7",
   "metadata": {},
   "source": [
    "# Azure OpenAI Python Patterns: Step-by-Step Examples\n",
    "\n",
    "**Original Code by Dave Ebbelaar** - Extended for Azure OpenAI by Arturo Quiroga\n",
    "\n",
    "This notebook provides a step-by-step walkthrough of four foundational patterns for using Azure OpenAI in Python. Each section is broken down into multiple cells to clarify the purpose and logic of each file and code segment.\n",
    "\n",
    "**Patterns covered:**\n",
    "- Basic Chat Completion (from `1-basic.py`)\n",
    "- Structured Output (from `2-structured.py`)\n",
    "- Function Calling / Tools (from `3-tools.py`)\n",
    "- Retrieval-Augmented Generation (from `4-retrieval.py`)\n",
    "\n",
    "---"
   ]
  },
  {
   "cell_type": "markdown",
   "id": "04a651c1",
   "metadata": {},
   "source": [
    "## 1. Basic Chat Completion (1-basic.py)\n",
    "This section demonstrates a simple chat completion using Azure OpenAI."
   ]
  },
  {
   "cell_type": "code",
   "execution_count": 1,
   "id": "0e9dc26d",
   "metadata": {},
   "outputs": [],
   "source": [
    "# Import required utilities and validate environment\n",
    "import sys, os\n",
    "# In a notebook, __file__ is not defined; use os.getcwd() instead\n",
    "sys.path.append(os.path.dirname(os.path.dirname(os.getcwd())))\n",
    "from azure_utils import get_azure_openai_client, get_deployment_name, validate_environment\n",
    "if not validate_environment():\n",
    "    raise RuntimeError(\"Environment validation failed. Please check your .env configuration.\")\n"
   ]
  },
  {
   "cell_type": "code",
   "execution_count": 2,
   "id": "97695491",
   "metadata": {},
   "outputs": [
    {
     "name": "stderr",
     "output_type": "stream",
     "text": [
      "2025-07-29 12:23:31,982 - INFO - Azure OpenAI client initialized with API key authentication\n"
     ]
    }
   ],
   "source": [
    "# Initialize Azure OpenAI client\n",
    "client = get_azure_openai_client()\n",
    "deployment_name = get_deployment_name(\"gpt4\")"
   ]
  },
  {
   "cell_type": "code",
   "execution_count": 3,
   "id": "acfb01ce",
   "metadata": {},
   "outputs": [
    {
     "name": "stdout",
     "output_type": "stream",
     "text": [
      "Azure OpenAI Response:\n",
      "==================================================\n"
     ]
    },
    {
     "name": "stderr",
     "output_type": "stream",
     "text": [
      "2025-07-29 12:23:33,600 - INFO - HTTP Request: POST https://aq-ai-foundry-sweden-central.openai.azure.com/openai/deployments/gpt-4.1/chat/completions?api-version=2025-01-01-preview \"HTTP/1.1 200 OK\"\n"
     ]
    },
    {
     "name": "stdout",
     "output_type": "stream",
     "text": [
      "There once was a coder in Brighton  \n",
      "Whose code was as smooth as pure Python  \n",
      "With syntax so neat,  \n",
      "Indentation a treat,  \n",
      "Debugging became quite a light one!\n"
     ]
    }
   ],
   "source": [
    "# Make a simple chat completion request\n",
    "print(\"Azure OpenAI Response:\")\n",
    "print(\"=\" * 50)\n",
    "try:\n",
    "    completion = client.chat.completions.create(\n",
    "        model=deployment_name,\n",
    "        messages=[\n",
    "            {\"role\": \"system\", \"content\": \"You're a helpful assistant.\"},\n",
    "            {\"role\": \"user\", \"content\": \"Write a limerick about the Python programming language.\"},\n",
    "        ],\n",
    "        temperature=0.7,\n",
    "        max_tokens=1000\n",
    "    )\n",
    "    response = completion.choices[0].message.content\n",
    "    print(response)\n",
    "except Exception as e:\n",
    "    print(f\"Error: {e}\")\n",
    "    print(\"Make sure your Azure OpenAI configuration is correct in .env file\")\n"
   ]
  },
  {
   "cell_type": "markdown",
   "id": "f909df77",
   "metadata": {},
   "source": [
    "---\n",
    "\n",
    "## 2. Structured Output (2-structured.py)\n",
    "This section demonstrates how to use Pydantic models to get structured responses from Azure OpenAI."
   ]
  },
  {
   "cell_type": "code",
   "execution_count": 4,
   "id": "0e98822b",
   "metadata": {},
   "outputs": [],
   "source": [
    "# Define a Pydantic model for structured output\n",
    "from pydantic import BaseModel\n",
    "from typing import List\n",
    "class CalendarEvent(BaseModel):\n",
    "    name: str\n",
    "    date: str\n",
    "    participants: List[str]"
   ]
  },
  {
   "cell_type": "code",
   "execution_count": 5,
   "id": "fb9696fa",
   "metadata": {},
   "outputs": [
    {
     "name": "stdout",
     "output_type": "stream",
     "text": [
      "Extracted Calendar Event:\n",
      "==============================\n"
     ]
    },
    {
     "name": "stderr",
     "output_type": "stream",
     "text": [
      "2025-07-29 12:23:34,190 - INFO - HTTP Request: POST https://aq-ai-foundry-sweden-central.openai.azure.com/openai/deployments/gpt-4.1/chat/completions?api-version=2025-01-01-preview \"HTTP/1.1 200 OK\"\n"
     ]
    },
    {
     "name": "stdout",
     "output_type": "stream",
     "text": [
      "Event Name: Science Fair\n",
      "Date: Friday\n",
      "Participants: Alice, Bob\n",
      "\n",
      "Individual field access:\n",
      "- Name: Science Fair\n",
      "- Date: Friday\n",
      "- Participants: ['Alice', 'Bob']\n"
     ]
    }
   ],
   "source": [
    "# Call the model with structured output\n",
    "print(\"Extracted Calendar Event:\")\n",
    "print(\"=\" * 30)\n",
    "try:\n",
    "    completion = client.beta.chat.completions.parse(\n",
    "        model=deployment_name,\n",
    "        messages=[\n",
    "            {\"role\": \"system\", \"content\": \"Extract the event information.\"},\n",
    "            {\"role\": \"user\", \"content\": \"Alice and Bob are going to a science fair on Friday.\"},\n",
    "        ],\n",
    "        response_format=CalendarEvent,\n",
    "        temperature=0.0,\n",
    "    )\n",
    "    event = completion.choices[0].message.parsed\n",
    "    print(f\"Event Name: {event.name}\")\n",
    "    print(f\"Date: {event.date}\")\n",
    "    print(f\"Participants: {', '.join(event.participants)}\")\n",
    "    print(f\"\\nIndividual field access:\")\n",
    "    print(f\"- Name: {event.name}\")\n",
    "    print(f\"- Date: {event.date}\")\n",
    "    print(f\"- Participants: {event.participants}\")\n",
    "except Exception as e:\n",
    "    print(f\"Error: {e}\")\n",
    "    print(\"Make sure your Azure OpenAI configuration is correct in .env file\")\n"
   ]
  },
  {
   "cell_type": "markdown",
   "id": "86352fa8",
   "metadata": {},
   "source": [
    "---\n",
    "\n",
    "## 3. Function Calling / Tools (3-tools.py)\n",
    "This section demonstrates how to enable the model to call Python functions (tools) and integrate external APIs."
   ]
  },
  {
   "cell_type": "code",
   "execution_count": 6,
   "id": "9fc56bdc",
   "metadata": {},
   "outputs": [],
   "source": [
    "# Define a tool function for weather\n",
    "import requests\n",
    "def get_weather(latitude: float, longitude: float) -> dict:\n",
    "    try:\n",
    "        response = requests.get(\n",
    "            f'https://api.open-meteo.com/v1/forecast?latitude={latitude}&longitude={longitude}&current=temperature_2m,wind_speed_10m&hourly=temperature_2m,relative_humidity_2m,wind_speed_10m'\n",
    "        )\n",
    "        response.raise_for_status()\n",
    "        data = response.json()\n",
    "        return data.get('current', {})\n",
    "    except Exception as e:\n",
    "        return {'error': f'Failed to fetch weather data: {str(e)}'}"
   ]
  },
  {
   "cell_type": "code",
   "execution_count": 7,
   "id": "65c62187",
   "metadata": {},
   "outputs": [
    {
     "name": "stdout",
     "output_type": "stream",
     "text": [
      "Tool Use with Azure OpenAI (Function Calling)\n",
      "==================================================\n",
      "Calling Azure OpenAI with tool definition...\n"
     ]
    },
    {
     "name": "stderr",
     "output_type": "stream",
     "text": [
      "2025-07-29 12:23:34,783 - INFO - HTTP Request: POST https://aq-ai-foundry-sweden-central.openai.azure.com/openai/deployments/gpt-4.1/chat/completions?api-version=2025-01-01-preview \"HTTP/1.1 200 OK\"\n"
     ]
    },
    {
     "name": "stdout",
     "output_type": "stream",
     "text": [
      "Model response received.\n",
      "Model wants to call 1 tool(s)\n",
      "Executing function: get_weather\n",
      "Arguments: {'latitude': 48.8566, 'longitude': 2.3522}\n",
      "Function result: {'time': '2025-07-29T16:15', 'interval': 900, 'temperature_2m': 20.0, 'wind_speed_10m': 7.4}\n",
      "\n",
      "Getting final response with function results...\n"
     ]
    }
   ],
   "source": [
    "# Tool use with Azure OpenAI: Function Calling Example\n",
    "import json\n",
    "import pprint\n",
    "print(\"Tool Use with Azure OpenAI (Function Calling)\")\n",
    "print(\"=\" * 50)\n",
    "try:\n",
    "    tools = [\n",
    "        {\n",
    "            'type': 'function',\n",
    "            'function': {\n",
    "                'name': 'get_weather',\n",
    "                'description': 'Get current temperature for provided coordinates in celsius.',\n",
    "                'parameters': {\n",
    "                    'type': 'object',\n",
    "                    'properties': {\n",
    "                        'latitude': {'type': 'number'},\n",
    "                        'longitude': {'type': 'number'},\n",
    "                    },\n",
    "                    'required': ['latitude', 'longitude'],\n",
    "                    'additionalProperties': False,\n",
    "                },\n",
    "                'strict': True,\n",
    "            },\n",
    "        }\n",
    "    ]\n",
    "    system_prompt = 'You are a helpful weather assistant.'\n",
    "    messages = [\n",
    "        {'role': 'system', 'content': system_prompt},\n",
    "        {'role': 'user', 'content': \"What's the weather like in Paris today?\"},\n",
    "    ]\n",
    "    print(\"Calling Azure OpenAI with tool definition...\")\n",
    "    completion = client.chat.completions.create(\n",
    "        model=deployment_name,\n",
    "        messages=messages,\n",
    "        tools=tools,\n",
    "        temperature=0.1,\n",
    "    )\n",
    "    print(\"Model response received.\")\n",
    "    assistant_message = completion.choices[0].message\n",
    "    if assistant_message.tool_calls:\n",
    "        print(f\"Model wants to call {len(assistant_message.tool_calls)} tool(s)\")\n",
    "        messages.append(assistant_message)\n",
    "        for tool_call in assistant_message.tool_calls:\n",
    "            function_name = tool_call.function.name\n",
    "            function_args = json.loads(tool_call.function.arguments)\n",
    "            print(f\"Executing function: {function_name}\")\n",
    "            print(f\"Arguments: {function_args}\")\n",
    "            # Call the function as in the script\n",
    "            result = get_weather(**function_args)\n",
    "            print(f\"Function result: {result}\")\n",
    "            messages.append({\n",
    "                \"role\": \"tool\",\n",
    "                \"tool_call_id\": tool_call.id,\n",
    "                \"content\": json.dumps(result)\n",
    "            })\n",
    "        print(\"\\nGetting final response with function results...\")\n",
    "        # Optionally, you can call a follow-up completion here for a final answer\n",
    "    else:\n",
    "        print(\"No tool calls were made by the model.\")\n",
    "        print(f\"Direct response: {assistant_message.content}\")\n",
    "except Exception as e:\n",
    "    print(f\"Error: {e}\")\n",
    "    print(\"Make sure your Azure OpenAI configuration is correct in .env file\")\n"
   ]
  },
  {
   "cell_type": "markdown",
   "id": "186eebfb",
   "metadata": {},
   "source": [
    "---\n",
    "\n",
    "## 4. Retrieval-Augmented Generation (4-retrieval.py)\n",
    "This section demonstrates how to connect the model to a knowledge base for question answering."
   ]
  },
  {
   "cell_type": "code",
   "execution_count": 8,
   "id": "eaf2fc58",
   "metadata": {},
   "outputs": [],
   "source": [
    "# Define a simple knowledge base search tool\n",
    "import json\n",
    "import os\n",
    "\n",
    "def search_kb(question: str) -> dict:\n",
    "    try:\n",
    "        # In a notebook, __file__ is not defined; use os.getcwd() instead\n",
    "        current_dir = os.getcwd()\n",
    "        kb_path = os.path.join(current_dir, 'kb.json')\n",
    "        with open(kb_path, 'r') as f:\n",
    "            kb_data = json.load(f)\n",
    "        return kb_data\n",
    "    except Exception as e:\n",
    "        return {'error': f'Failed to load knowledge base: {str(e)}'}\n"
   ]
  },
  {
   "cell_type": "code",
   "execution_count": 9,
   "id": "2b272656",
   "metadata": {},
   "outputs": [
    {
     "name": "stdout",
     "output_type": "stream",
     "text": [
      "Azure OpenAI Knowledge Base Assistant\n",
      "==================================================\n",
      "\n",
      "Asking: 'What is the return policy?'\n"
     ]
    },
    {
     "name": "stderr",
     "output_type": "stream",
     "text": [
      "2025-07-29 12:23:36,050 - INFO - HTTP Request: POST https://aq-ai-foundry-sweden-central.openai.azure.com/openai/deployments/gpt-4.1/chat/completions?api-version=2025-01-01-preview \"HTTP/1.1 200 OK\"\n"
     ]
    },
    {
     "name": "stdout",
     "output_type": "stream",
     "text": [
      "Model is searching knowledge base...\n",
      "Executing function: search_kb\n",
      "Arguments: {'question': 'What is the return policy?'}\n",
      "Function result: {'records': [{'id': 1, 'question': 'What is the return policy?', 'answer': 'Items can be returned within 30 days of purchase with original receipt. Refunds will be processed to the original payment method within 5-7 business days.'}, {'id': 2, 'question': 'Do you ship internationally?', 'answer': 'Yes, we ship to over 50 countries worldwide. International shipping typically takes 7-14 business days and costs vary by destination. Please note that customs fees may apply.'}, {'id': 3, 'question': 'What payment methods do you accept?', 'answer': 'We accept Visa, Mastercard, American Express, PayPal, and Apple Pay. All payments are processed securely through our encrypted payment system.'}, {'id': 4, 'question': 'How do I track my order?', 'answer': \"Once your order ships, you'll receive a tracking number via email. You can also log into your account to view order status and tracking information.\"}, {'id': 5, 'question': 'Do you offer customer support?', 'answer': 'Yes, our customer support team is available Monday-Friday 9AM-6PM EST. You can reach us via email, phone, or live chat on our website.'}]}\n",
      "\n",
      "Asking: 'Do you ship internationally?'\n"
     ]
    },
    {
     "name": "stderr",
     "output_type": "stream",
     "text": [
      "2025-07-29 12:23:36,531 - INFO - HTTP Request: POST https://aq-ai-foundry-sweden-central.openai.azure.com/openai/deployments/gpt-4.1/chat/completions?api-version=2025-01-01-preview \"HTTP/1.1 200 OK\"\n"
     ]
    },
    {
     "name": "stdout",
     "output_type": "stream",
     "text": [
      "Model is searching knowledge base...\n",
      "Executing function: search_kb\n",
      "Arguments: {'question': 'Do you ship internationally?'}\n",
      "Function result: {'records': [{'id': 1, 'question': 'What is the return policy?', 'answer': 'Items can be returned within 30 days of purchase with original receipt. Refunds will be processed to the original payment method within 5-7 business days.'}, {'id': 2, 'question': 'Do you ship internationally?', 'answer': 'Yes, we ship to over 50 countries worldwide. International shipping typically takes 7-14 business days and costs vary by destination. Please note that customs fees may apply.'}, {'id': 3, 'question': 'What payment methods do you accept?', 'answer': 'We accept Visa, Mastercard, American Express, PayPal, and Apple Pay. All payments are processed securely through our encrypted payment system.'}, {'id': 4, 'question': 'How do I track my order?', 'answer': \"Once your order ships, you'll receive a tracking number via email. You can also log into your account to view order status and tracking information.\"}, {'id': 5, 'question': 'Do you offer customer support?', 'answer': 'Yes, our customer support team is available Monday-Friday 9AM-6PM EST. You can reach us via email, phone, or live chat on our website.'}]}\n",
      "\n",
      "Asking: 'What payment methods do you accept?'\n"
     ]
    },
    {
     "name": "stderr",
     "output_type": "stream",
     "text": [
      "2025-07-29 12:23:37,353 - INFO - HTTP Request: POST https://aq-ai-foundry-sweden-central.openai.azure.com/openai/deployments/gpt-4.1/chat/completions?api-version=2025-01-01-preview \"HTTP/1.1 200 OK\"\n"
     ]
    },
    {
     "name": "stdout",
     "output_type": "stream",
     "text": [
      "Model is searching knowledge base...\n",
      "Executing function: search_kb\n",
      "Arguments: {'question': 'What payment methods do you accept?'}\n",
      "Function result: {'records': [{'id': 1, 'question': 'What is the return policy?', 'answer': 'Items can be returned within 30 days of purchase with original receipt. Refunds will be processed to the original payment method within 5-7 business days.'}, {'id': 2, 'question': 'Do you ship internationally?', 'answer': 'Yes, we ship to over 50 countries worldwide. International shipping typically takes 7-14 business days and costs vary by destination. Please note that customs fees may apply.'}, {'id': 3, 'question': 'What payment methods do you accept?', 'answer': 'We accept Visa, Mastercard, American Express, PayPal, and Apple Pay. All payments are processed securely through our encrypted payment system.'}, {'id': 4, 'question': 'How do I track my order?', 'answer': \"Once your order ships, you'll receive a tracking number via email. You can also log into your account to view order status and tracking information.\"}, {'id': 5, 'question': 'Do you offer customer support?', 'answer': 'Yes, our customer support team is available Monday-Friday 9AM-6PM EST. You can reach us via email, phone, or live chat on our website.'}]}\n",
      "\n",
      "Asking: 'How do I track my order?'\n"
     ]
    },
    {
     "name": "stderr",
     "output_type": "stream",
     "text": [
      "2025-07-29 12:23:37,882 - INFO - HTTP Request: POST https://aq-ai-foundry-sweden-central.openai.azure.com/openai/deployments/gpt-4.1/chat/completions?api-version=2025-01-01-preview \"HTTP/1.1 200 OK\"\n"
     ]
    },
    {
     "name": "stdout",
     "output_type": "stream",
     "text": [
      "Model is searching knowledge base...\n",
      "Executing function: search_kb\n",
      "Arguments: {'question': 'How do I track my order?'}\n",
      "Function result: {'records': [{'id': 1, 'question': 'What is the return policy?', 'answer': 'Items can be returned within 30 days of purchase with original receipt. Refunds will be processed to the original payment method within 5-7 business days.'}, {'id': 2, 'question': 'Do you ship internationally?', 'answer': 'Yes, we ship to over 50 countries worldwide. International shipping typically takes 7-14 business days and costs vary by destination. Please note that customs fees may apply.'}, {'id': 3, 'question': 'What payment methods do you accept?', 'answer': 'We accept Visa, Mastercard, American Express, PayPal, and Apple Pay. All payments are processed securely through our encrypted payment system.'}, {'id': 4, 'question': 'How do I track my order?', 'answer': \"Once your order ships, you'll receive a tracking number via email. You can also log into your account to view order status and tracking information.\"}, {'id': 5, 'question': 'Do you offer customer support?', 'answer': 'Yes, our customer support team is available Monday-Friday 9AM-6PM EST. You can reach us via email, phone, or live chat on our website.'}]}\n"
     ]
    }
   ],
   "source": [
    "# Retrieval with Azure OpenAI: Knowledge Base Tool Example\n",
    "import json\n",
    "import pprint\n",
    "print(\"Azure OpenAI Knowledge Base Assistant\")\n",
    "print(\"=\" * 50)\n",
    "try:\n",
    "    tools = [\n",
    "        {\n",
    "            'type': 'function',\n",
    "            'function': {\n",
    "                'name': 'search_kb',\n",
    "                'description': \"Get the answer to the user's question from the knowledge base about our e-commerce store.\",\n",
    "                'parameters': {\n",
    "                    'type': 'object',\n",
    "                    'properties': {\n",
    "                        'question': {'type': 'string'},\n",
    "                    },\n",
    "                    'required': ['question'],\n",
    "                    'additionalProperties': False,\n",
    "                },\n",
    "                'strict': True,\n",
    "            },\n",
    "        }\n",
    "    ]\n",
    "    system_prompt = 'You are a helpful assistant that answers questions from the knowledge base about our e-commerce store.'\n",
    "    kb_questions = [\n",
    "        \"What is the return policy?\",\n",
    "        \"Do you ship internationally?\",\n",
    "        \"What payment methods do you accept?\",\n",
    "        \"How do I track my order?\"\n",
    "    ]\n",
    "    for question in kb_questions:\n",
    "        print(f\"\\nAsking: '{question}'\")\n",
    "        messages = [\n",
    "            {'role': 'system', 'content': system_prompt},\n",
    "            {'role': 'user', 'content': question},\n",
    "        ]\n",
    "        completion = client.chat.completions.create(\n",
    "            model=deployment_name,\n",
    "            messages=messages,\n",
    "            tools=tools,\n",
    "            temperature=0.1\n",
    "        )\n",
    "        assistant_message = completion.choices[0].message\n",
    "        if assistant_message.tool_calls:\n",
    "            print(\"Model is searching knowledge base...\")\n",
    "            messages.append(assistant_message)\n",
    "            for tool_call in assistant_message.tool_calls:\n",
    "                function_name = tool_call.function.name\n",
    "                function_args = json.loads(tool_call.function.arguments)\n",
    "                print(f\"Executing function: {function_name}\")\n",
    "                print(f\"Arguments: {function_args}\")\n",
    "                result = search_kb(**function_args)\n",
    "                print(f\"Function result: {result}\")\n",
    "                messages.append({\n",
    "                    \"role\": \"tool\",\n",
    "                    \"tool_call_id\": tool_call.id,\n",
    "                    \"content\": json.dumps(result)\n",
    "                })\n",
    "            # Optionally, you can call a follow-up completion here for a final answer\n",
    "        else:\n",
    "            print(\"Model responding directly (no KB search needed)\")\n",
    "            print(f\"Direct response: {assistant_message.content}\")\n",
    "except Exception as e:\n",
    "    print(f\"Error: {e}\")\n",
    "    print(\"Make sure your Azure OpenAI configuration is correct in .env file\")\n"
   ]
  }
 ],
 "metadata": {
  "kernelspec": {
   "display_name": ".venv (3.13.5)",
   "language": "python",
   "name": "python3"
  },
  "language_info": {
   "codemirror_mode": {
    "name": "ipython",
    "version": 3
   },
   "file_extension": ".py",
   "mimetype": "text/x-python",
   "name": "python",
   "nbconvert_exporter": "python",
   "pygments_lexer": "ipython3",
   "version": "3.13.5"
  }
 },
 "nbformat": 4,
 "nbformat_minor": 5
}
